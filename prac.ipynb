{
 "cells": [
  {
   "cell_type": "code",
   "execution_count": 28,
   "id": "74795cc8",
   "metadata": {},
   "outputs": [],
   "source": [
    "from pdf2image import convert_from_path"
   ]
  },
  {
   "cell_type": "code",
   "execution_count": 29,
   "id": "d7e6cda8",
   "metadata": {},
   "outputs": [],
   "source": [
    "def directory_path():\n",
    "    input_path=str()\n",
    "    output_path=str()\n",
    "    column=list()\n",
    "    contents=list()\n",
    "    file = open(\"Path1.txt\", \"r\")\n",
    "    file=file.read()\n",
    "    contents=file.split(\"\\n\")\n",
    "    for i in contents:\n",
    "        if i.startswith(\"input=\"):\n",
    "            input_path=i.lstrip(\"input=\")\n",
    "        if i.startswith(\"output=\"):\n",
    "            output_path=i.lstrip(\"output=\")\n",
    "        if i.startswith(\"column=\"):\n",
    "            column=list(i.lstrip(\"column=\"))\n",
    "            res = []\n",
    "            for ele in column:\n",
    "                if ele.strip():\n",
    "                    res.append(ele)\n",
    "            for i in range(0, len(res)):\n",
    "                res[i] = int(res[i])\n",
    "    return input_path,output_path,res"
   ]
  },
  {
   "cell_type": "code",
   "execution_count": 30,
   "id": "5466d4b7",
   "metadata": {},
   "outputs": [
    {
     "data": {
      "text/plain": [
       "('D:\\\\FINAL YEAR PROJECT\\\\Practice_Coding\\\\Input',\n",
       " 'D:\\\\FINAL YEAR PROJECT\\\\Practice_Coding\\\\Output',\n",
       " [1, 2, 3, 4, 5, 6, 7, 8, 9, 1, 0])"
      ]
     },
     "execution_count": 30,
     "metadata": {},
     "output_type": "execute_result"
    }
   ],
   "source": [
    "directory_path()"
   ]
  },
  {
   "cell_type": "code",
   "execution_count": null,
   "id": "8087f02e",
   "metadata": {},
   "outputs": [],
   "source": []
  }
 ],
 "metadata": {
  "kernelspec": {
   "display_name": "Python 3",
   "language": "python",
   "name": "python3"
  },
  "language_info": {
   "codemirror_mode": {
    "name": "ipython",
    "version": 3
   },
   "file_extension": ".py",
   "mimetype": "text/x-python",
   "name": "python",
   "nbconvert_exporter": "python",
   "pygments_lexer": "ipython3",
   "version": "3.8.8"
  }
 },
 "nbformat": 4,
 "nbformat_minor": 5
}
