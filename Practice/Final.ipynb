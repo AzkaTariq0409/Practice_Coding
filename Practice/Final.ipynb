{
 "cells": [
  {
   "cell_type": "code",
   "execution_count": 1,
   "id": "e37439ae",
   "metadata": {},
   "outputs": [],
   "source": [
    "from pdf2image import convert_from_path\n",
    "import os"
   ]
  },
  {
   "cell_type": "code",
   "execution_count": 2,
   "id": "4e7e7142",
   "metadata": {},
   "outputs": [],
   "source": [
    "def directory_path():\n",
    "    input_path=str()\n",
    "    output_path=str()\n",
    "    contents=list()\n",
    "    file = open(\"Path.txt\", \"r\")\n",
    "    file=file.read()\n",
    "    contents=file.split(\"\\n\")\n",
    "    for i in contents:\n",
    "        if i.startswith(\"input=\"):\n",
    "            input_path=i.lstrip(\"input=\")\n",
    "        if i.startswith(\"output=\"):\n",
    "            output_path=i.lstrip(\"output=\")\n",
    "    return input_path,output_path\n",
    "        "
   ]
  },
  {
   "cell_type": "code",
   "execution_count": 3,
   "id": "15270820",
   "metadata": {},
   "outputs": [],
   "source": [
    "input_path,output_path=directory_path()"
   ]
  },
  {
   "cell_type": "code",
   "execution_count": 4,
   "id": "d24bc8b7",
   "metadata": {},
   "outputs": [],
   "source": [
    "def read_write_pdf(path1,path2):\n",
    "    files=os.listdir(path1)\n",
    "    for i in files:\n",
    "        if i.endswith(\".pdf\"):\n",
    "            pages = convert_from_path(path1+\"\\\\\"+i,300,poppler_path=r\"C:\\poppler-0.68.0\\bin\")\n",
    "            file_name=i.rstrip(\".pdf\")\n",
    "    count=1\n",
    "    for page in pages:\n",
    "        page.save(str(path2)+\"\\\\\"+str(file_name)+str(count)+\".jpg\", 'JPEG')\n",
    "        count+=1 "
   ]
  },
  {
   "cell_type": "code",
   "execution_count": 5,
   "id": "2c7ab342",
   "metadata": {
    "scrolled": true
   },
   "outputs": [],
   "source": [
    "read_write_pdf(input_path,output_path)"
   ]
  },
  {
   "cell_type": "code",
   "execution_count": 7,
   "id": "72b5e80f",
   "metadata": {},
   "outputs": [
    {
     "data": {
      "text/plain": [
       "'dupdatevjdrguffgsidufgwsdd.pdf'"
      ]
     },
     "execution_count": 7,
     "metadata": {},
     "output_type": "execute_result"
    }
   ],
   "source": []
  }
 ],
 "metadata": {
  "kernelspec": {
   "display_name": "Python 3",
   "language": "python",
   "name": "python3"
  },
  "language_info": {
   "codemirror_mode": {
    "name": "ipython",
    "version": 3
   },
   "file_extension": ".py",
   "mimetype": "text/x-python",
   "name": "python",
   "nbconvert_exporter": "python",
   "pygments_lexer": "ipython3",
   "version": "3.8.8"
  }
 },
 "nbformat": 4,
 "nbformat_minor": 5
}
